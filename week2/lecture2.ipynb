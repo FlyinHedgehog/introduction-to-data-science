{
 "cells": [
  {
   "cell_type": "markdown",
   "metadata": {},
   "source": [
    "# Example (Maps)"
   ]
  },
  {
   "cell_type": "code",
   "execution_count": 1,
   "metadata": {},
   "outputs": [],
   "source": [
    "import pandas as pd\n",
    "import plotly.express as px\n",
    "import plotly.graph_objects as go\n",
    "import matplotlib.pyplot as plt\n",
    "from mpl_toolkits.basemap import Basemap"
   ]
  },
  {
   "cell_type": "code",
   "execution_count": 2,
   "metadata": {},
   "outputs": [
    {
     "data": {
      "text/html": [
       "<div>\n",
       "<style scoped>\n",
       "    .dataframe tbody tr th:only-of-type {\n",
       "        vertical-align: middle;\n",
       "    }\n",
       "\n",
       "    .dataframe tbody tr th {\n",
       "        vertical-align: top;\n",
       "    }\n",
       "\n",
       "    .dataframe thead th {\n",
       "        text-align: right;\n",
       "    }\n",
       "</style>\n",
       "<table border=\"1\" class=\"dataframe\">\n",
       "  <thead>\n",
       "    <tr style=\"text-align: right;\">\n",
       "      <th></th>\n",
       "      <th>Tarih</th>\n",
       "      <th>Sensor Adi</th>\n",
       "      <th>X Koordinati</th>\n",
       "      <th>Y Koordinati</th>\n",
       "      <th>Arac Sayisi</th>\n",
       "      <th>Unnamed: 5</th>\n",
       "    </tr>\n",
       "  </thead>\n",
       "  <tbody>\n",
       "    <tr>\n",
       "      <th>0</th>\n",
       "      <td>1012021.0</td>\n",
       "      <td>TEM Arıcılar</td>\n",
       "      <td>2.898199e+01</td>\n",
       "      <td>4.110021e+01</td>\n",
       "      <td>37325.0</td>\n",
       "      <td>NaN</td>\n",
       "    </tr>\n",
       "    <tr>\n",
       "      <th>1</th>\n",
       "      <td>1012021.0</td>\n",
       "      <td>TEM Mahmutbey Gişeler</td>\n",
       "      <td>2.880687e+15</td>\n",
       "      <td>4.106131e+15</td>\n",
       "      <td>24861.0</td>\n",
       "      <td>NaN</td>\n",
       "    </tr>\n",
       "    <tr>\n",
       "      <th>2</th>\n",
       "      <td>1012021.0</td>\n",
       "      <td>D100 Gülsuyu</td>\n",
       "      <td>2.915252e+01</td>\n",
       "      <td>4.092487e+01</td>\n",
       "      <td>19380.0</td>\n",
       "      <td>NaN</td>\n",
       "    </tr>\n",
       "    <tr>\n",
       "      <th>3</th>\n",
       "      <td>1012021.0</td>\n",
       "      <td>Kavacık Hisar Evleri</td>\n",
       "      <td>2.909468e+01</td>\n",
       "      <td>4.108283e+01</td>\n",
       "      <td>31554.0</td>\n",
       "      <td>NaN</td>\n",
       "    </tr>\n",
       "    <tr>\n",
       "      <th>4</th>\n",
       "      <td>1012021.0</td>\n",
       "      <td>Ümraniye Kavşağı</td>\n",
       "      <td>2.912109e+01</td>\n",
       "      <td>4.102894e+01</td>\n",
       "      <td>24416.0</td>\n",
       "      <td>NaN</td>\n",
       "    </tr>\n",
       "    <tr>\n",
       "      <th>...</th>\n",
       "      <td>...</td>\n",
       "      <td>...</td>\n",
       "      <td>...</td>\n",
       "      <td>...</td>\n",
       "      <td>...</td>\n",
       "      <td>...</td>\n",
       "    </tr>\n",
       "    <tr>\n",
       "      <th>97331</th>\n",
       "      <td>NaN</td>\n",
       "      <td>NaN</td>\n",
       "      <td>NaN</td>\n",
       "      <td>NaN</td>\n",
       "      <td>NaN</td>\n",
       "      <td>NaN</td>\n",
       "    </tr>\n",
       "    <tr>\n",
       "      <th>97332</th>\n",
       "      <td>NaN</td>\n",
       "      <td>NaN</td>\n",
       "      <td>NaN</td>\n",
       "      <td>NaN</td>\n",
       "      <td>NaN</td>\n",
       "      <td>NaN</td>\n",
       "    </tr>\n",
       "    <tr>\n",
       "      <th>97333</th>\n",
       "      <td>NaN</td>\n",
       "      <td>NaN</td>\n",
       "      <td>NaN</td>\n",
       "      <td>NaN</td>\n",
       "      <td>NaN</td>\n",
       "      <td>NaN</td>\n",
       "    </tr>\n",
       "    <tr>\n",
       "      <th>97334</th>\n",
       "      <td>NaN</td>\n",
       "      <td>NaN</td>\n",
       "      <td>NaN</td>\n",
       "      <td>NaN</td>\n",
       "      <td>NaN</td>\n",
       "      <td>NaN</td>\n",
       "    </tr>\n",
       "    <tr>\n",
       "      <th>97335</th>\n",
       "      <td>NaN</td>\n",
       "      <td>NaN</td>\n",
       "      <td>NaN</td>\n",
       "      <td>NaN</td>\n",
       "      <td>NaN</td>\n",
       "      <td>NaN</td>\n",
       "    </tr>\n",
       "  </tbody>\n",
       "</table>\n",
       "<p>97336 rows × 6 columns</p>\n",
       "</div>"
      ],
      "text/plain": [
       "           Tarih             Sensor Adi  X Koordinati  Y Koordinati  \\\n",
       "0      1012021.0           TEM Arıcılar  2.898199e+01  4.110021e+01   \n",
       "1      1012021.0  TEM Mahmutbey Gişeler  2.880687e+15  4.106131e+15   \n",
       "2      1012021.0          D100 Gülsuyu   2.915252e+01  4.092487e+01   \n",
       "3      1012021.0   Kavacık Hisar Evleri  2.909468e+01  4.108283e+01   \n",
       "4      1012021.0       Ümraniye Kavşağı  2.912109e+01  4.102894e+01   \n",
       "...          ...                    ...           ...           ...   \n",
       "97331        NaN                    NaN           NaN           NaN   \n",
       "97332        NaN                    NaN           NaN           NaN   \n",
       "97333        NaN                    NaN           NaN           NaN   \n",
       "97334        NaN                    NaN           NaN           NaN   \n",
       "97335        NaN                    NaN           NaN           NaN   \n",
       "\n",
       "       Arac Sayisi  Unnamed: 5  \n",
       "0          37325.0         NaN  \n",
       "1          24861.0         NaN  \n",
       "2          19380.0         NaN  \n",
       "3          31554.0         NaN  \n",
       "4          24416.0         NaN  \n",
       "...            ...         ...  \n",
       "97331          NaN         NaN  \n",
       "97332          NaN         NaN  \n",
       "97333          NaN         NaN  \n",
       "97334          NaN         NaN  \n",
       "97335          NaN         NaN  \n",
       "\n",
       "[97336 rows x 6 columns]"
      ]
     },
     "execution_count": 2,
     "metadata": {},
     "output_type": "execute_result"
    }
   ],
   "source": [
    "data = pd.read_csv('./data/gunluk-arac-saym-21.csv', encoding = 'iso8859-9',\n",
    "                    delimiter = ';',\n",
    "                    decimal = ',',\n",
    "                    thousands = '.')\n",
    "\n",
    "data"
   ]
  },
  {
   "cell_type": "code",
   "execution_count": 3,
   "metadata": {},
   "outputs": [
    {
     "data": {
      "text/plain": [
       "Sensor Adi\n",
       "TEM Çakmak Köprüsü              221696.726027\n",
       "TEM Çakmak                      220553.136986\n",
       "TEM İstoç                       189507.446575\n",
       "TEM Halkalı                     188737.295890\n",
       "Bayrampaşa                      180058.857534\n",
       "                                    ...      \n",
       "Ortaköy Sahil                     1074.871233\n",
       "Uskumruköy Bağlantı Yolu           995.386301\n",
       "4. Levent                            0.158904\n",
       "D100 Ambarlı  B.Çekmece Yönü         0.000000\n",
       "Veliefendi                           0.000000\n",
       "Name: Arac Sayisi, Length: 309, dtype: float64"
      ]
     },
     "execution_count": 3,
     "metadata": {},
     "output_type": "execute_result"
    }
   ],
   "source": [
    "totals21 = data.groupby('Sensor Adi')['Arac Sayisi'].sum()\n",
    "totals21.sort_values(ascending = False) / 365"
   ]
  },
  {
   "cell_type": "code",
   "execution_count": 4,
   "metadata": {},
   "outputs": [
    {
     "data": {
      "text/plain": [
       "Sensor Adi\n",
       "TEM Çakmak Köprüsü                    80919305.0\n",
       "TEM Çakmak                            80501895.0\n",
       "TEM İstoç                             69170218.0\n",
       "TEM Halkalı                           68889113.0\n",
       "Bayrampaşa                            65721483.0\n",
       "                                         ...    \n",
       "Yavuz Sultan Selim Köprüsü Anadolu     4480544.0\n",
       "Üsküdar Sahil Yolu                     4250159.0\n",
       "Gümüşdere                              4162808.0\n",
       "Aşiyan Parkı                           3880097.0\n",
       "Pirinççi                               3836230.0\n",
       "Name: Arac Sayisi, Length: 264, dtype: float64"
      ]
     },
     "execution_count": 4,
     "metadata": {},
     "output_type": "execute_result"
    }
   ],
   "source": [
    "select = totals21[totals21/365 > 10000]\n",
    "select.sort_values(ascending = False)"
   ]
  },
  {
   "cell_type": "code",
   "execution_count": 5,
   "metadata": {},
   "outputs": [
    {
     "data": {
      "text/plain": [
       "X Koordinati  Y Koordinati\n",
       "1.000000e+00  1.000000e+00    38677.846575\n",
       "2.838385e+01  4.105210e+01    20058.109589\n",
       "2.839269e+01  4.106764e+01    28664.090411\n",
       "2.843498e+01  4.105169e+01    34295.542466\n",
       "2.845456e+01  4.105414e+01    32528.109589\n",
       "                                  ...     \n",
       "2.937507e+01  4.088631e+01    78453.597260\n",
       "2.888556e+07  4.105083e+07    59976.408219\n",
       "2.908417e+07  4.098802e+07    78348.967123\n",
       "2.880687e+15  4.106131e+15    27676.457534\n",
       "2.900138e+15  4.122074e+15     4725.430137\n",
       "Name: Arac Sayisi, Length: 332, dtype: float64"
      ]
     },
     "execution_count": 5,
     "metadata": {},
     "output_type": "execute_result"
    }
   ],
   "source": [
    "tmp = data.groupby(['X Koordinati', 'Y Koordinati'])['Arac Sayisi'].sum()/365\n",
    "tmp"
   ]
  },
  {
   "cell_type": "code",
   "execution_count": 6,
   "metadata": {},
   "outputs": [
    {
     "data": {
      "text/plain": [
       "X Koordinati  Y Koordinati\n",
       "1.000000e+00  1.000000e+00    38677.846575\n",
       "2.838385e+01  4.105210e+01    20058.109589\n",
       "2.839269e+01  4.106764e+01    28664.090411\n",
       "2.843498e+01  4.105169e+01    34295.542466\n",
       "2.845456e+01  4.105414e+01    32528.109589\n",
       "                                  ...     \n",
       "2.936343e+01  4.090512e+01    63379.230137\n",
       "2.937507e+01  4.088631e+01    78453.597260\n",
       "2.888556e+07  4.105083e+07    59976.408219\n",
       "2.908417e+07  4.098802e+07    78348.967123\n",
       "2.880687e+15  4.106131e+15    27676.457534\n",
       "Name: Arac Sayisi, Length: 284, dtype: float64"
      ]
     },
     "execution_count": 6,
     "metadata": {},
     "output_type": "execute_result"
    }
   ],
   "source": [
    "vehicles = tmp[tmp>1e4]\n",
    "vehicles"
   ]
  },
  {
   "cell_type": "code",
   "execution_count": 7,
   "metadata": {},
   "outputs": [
    {
     "data": {
      "text/html": [
       "<div>\n",
       "<style scoped>\n",
       "    .dataframe tbody tr th:only-of-type {\n",
       "        vertical-align: middle;\n",
       "    }\n",
       "\n",
       "    .dataframe tbody tr th {\n",
       "        vertical-align: top;\n",
       "    }\n",
       "\n",
       "    .dataframe thead th {\n",
       "        text-align: right;\n",
       "    }\n",
       "</style>\n",
       "<table border=\"1\" class=\"dataframe\">\n",
       "  <thead>\n",
       "    <tr style=\"text-align: right;\">\n",
       "      <th></th>\n",
       "      <th></th>\n",
       "      <th>lat</th>\n",
       "      <th>lon</th>\n",
       "    </tr>\n",
       "    <tr>\n",
       "      <th>X Koordinati</th>\n",
       "      <th>Y Koordinati</th>\n",
       "      <th></th>\n",
       "      <th></th>\n",
       "    </tr>\n",
       "  </thead>\n",
       "  <tbody>\n",
       "    <tr>\n",
       "      <th>1.000000e+00</th>\n",
       "      <th>1.000000e+00</th>\n",
       "      <td>1.000000e+00</td>\n",
       "      <td>1.000000e+00</td>\n",
       "    </tr>\n",
       "    <tr>\n",
       "      <th>2.838385e+01</th>\n",
       "      <th>4.105210e+01</th>\n",
       "      <td>2.838385e+01</td>\n",
       "      <td>4.105210e+01</td>\n",
       "    </tr>\n",
       "    <tr>\n",
       "      <th>2.839269e+01</th>\n",
       "      <th>4.106764e+01</th>\n",
       "      <td>2.839269e+01</td>\n",
       "      <td>4.106764e+01</td>\n",
       "    </tr>\n",
       "    <tr>\n",
       "      <th>2.843498e+01</th>\n",
       "      <th>4.105169e+01</th>\n",
       "      <td>2.843498e+01</td>\n",
       "      <td>4.105169e+01</td>\n",
       "    </tr>\n",
       "    <tr>\n",
       "      <th>2.845456e+01</th>\n",
       "      <th>4.105414e+01</th>\n",
       "      <td>2.845456e+01</td>\n",
       "      <td>4.105414e+01</td>\n",
       "    </tr>\n",
       "    <tr>\n",
       "      <th>...</th>\n",
       "      <th>...</th>\n",
       "      <td>...</td>\n",
       "      <td>...</td>\n",
       "    </tr>\n",
       "    <tr>\n",
       "      <th>2.936343e+01</th>\n",
       "      <th>4.090512e+01</th>\n",
       "      <td>2.936343e+01</td>\n",
       "      <td>4.090512e+01</td>\n",
       "    </tr>\n",
       "    <tr>\n",
       "      <th>2.937507e+01</th>\n",
       "      <th>4.088631e+01</th>\n",
       "      <td>2.937507e+01</td>\n",
       "      <td>4.088631e+01</td>\n",
       "    </tr>\n",
       "    <tr>\n",
       "      <th>2.888556e+07</th>\n",
       "      <th>4.105083e+07</th>\n",
       "      <td>2.888556e+07</td>\n",
       "      <td>4.105083e+07</td>\n",
       "    </tr>\n",
       "    <tr>\n",
       "      <th>2.908417e+07</th>\n",
       "      <th>4.098802e+07</th>\n",
       "      <td>2.908417e+07</td>\n",
       "      <td>4.098802e+07</td>\n",
       "    </tr>\n",
       "    <tr>\n",
       "      <th>2.880687e+15</th>\n",
       "      <th>4.106131e+15</th>\n",
       "      <td>2.880687e+15</td>\n",
       "      <td>4.106131e+15</td>\n",
       "    </tr>\n",
       "  </tbody>\n",
       "</table>\n",
       "<p>284 rows × 2 columns</p>\n",
       "</div>"
      ],
      "text/plain": [
       "                                    lat           lon\n",
       "X Koordinati Y Koordinati                            \n",
       "1.000000e+00 1.000000e+00  1.000000e+00  1.000000e+00\n",
       "2.838385e+01 4.105210e+01  2.838385e+01  4.105210e+01\n",
       "2.839269e+01 4.106764e+01  2.839269e+01  4.106764e+01\n",
       "2.843498e+01 4.105169e+01  2.843498e+01  4.105169e+01\n",
       "2.845456e+01 4.105414e+01  2.845456e+01  4.105414e+01\n",
       "...                                 ...           ...\n",
       "2.936343e+01 4.090512e+01  2.936343e+01  4.090512e+01\n",
       "2.937507e+01 4.088631e+01  2.937507e+01  4.088631e+01\n",
       "2.888556e+07 4.105083e+07  2.888556e+07  4.105083e+07\n",
       "2.908417e+07 4.098802e+07  2.908417e+07  4.098802e+07\n",
       "2.880687e+15 4.106131e+15  2.880687e+15  4.106131e+15\n",
       "\n",
       "[284 rows x 2 columns]"
      ]
     },
     "execution_count": 7,
     "metadata": {},
     "output_type": "execute_result"
    }
   ],
   "source": [
    "coords = vehicles.index.to_frame()\n",
    "coords.columns = ['lat', 'lon']\n",
    "coords"
   ]
  },
  {
   "cell_type": "code",
   "execution_count": 8,
   "metadata": {},
   "outputs": [
    {
     "data": {
      "image/png": "[encoded data removed]",
      "text/plain": [
       "<Figure size 1440x864 with 1 Axes>"
      ]
     },
     "metadata": {},
     "output_type": "display_data"
    }
   ],
   "source": [
    "fig = plt.figure(figsize = (20, 12))\n",
    "\n",
    "m = Basemap(projection = 'merc',\n",
    "            llcrnrlat = 40.75, \n",
    "            urcrnrlat = 41.5,\n",
    "            llcrnrlon = 27.5,\n",
    "            urcrnrlon = 30.0,\n",
    "            resolution = 'i')\n",
    "\n",
    "m.drawcoastlines()\n",
    "\n",
    "xs, ys = m(coords['lat'], coords['lon'])\n",
    "#m.drawlsmask(land_color='wheat', ocean_color='lightblue')\n",
    "\n",
    "m.scatter(xs, ys, s = vehicles/1e3, c = 'red', alpha = 0.2)\n",
    "\n",
    "plt.show()"
   ]
  }
 ],
 "metadata": {
  "kernelspec": {
   "display_name": "Python 3.8.10 64-bit",
   "language": "python",
   "name": "python3"
  },
  "language_info": {
   "codemirror_mode": {
    "name": "ipython",
    "version": 3
   },
   "file_extension": ".py",
   "mimetype": "text/x-python",
   "name": "python",
   "nbconvert_exporter": "python",
   "pygments_lexer": "ipython3",
   "version": "3.8.10"
  },
  "orig_nbformat": 4,
  "vscode": {
   "interpreter": {
    "hash": "916dbcbb3f70747c44a77c7bcd40155683ae19c65e1c03b4aa3499c5328201f1"
   }
  }
 },
 "nbformat": 4,
 "nbformat_minor": 2
}
